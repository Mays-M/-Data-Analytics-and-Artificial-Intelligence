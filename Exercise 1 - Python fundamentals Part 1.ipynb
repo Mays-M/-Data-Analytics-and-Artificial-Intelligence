{
 "cells": [
  {
   "cell_type": "code",
   "execution_count": 1,
   "id": "92fa243e-d2f6-4c32-8428-377933c15da7",
   "metadata": {},
   "outputs": [],
   "source": [
    "# Sentence\n",
    "s = \"Gary must look towards the future in order to gather enough information from the target.\"\n"
   ]
  },
  {
   "cell_type": "code",
   "execution_count": 8,
   "id": "664562b7-1298-4c50-b28a-85a61206b439",
   "metadata": {},
   "outputs": [
    {
     "name": "stdout",
     "output_type": "stream",
     "text": [
      "Input string = Gary must look towards the future in order to gather enough information from the target.\n",
      "New String = Gary must he target.\n"
     ]
    }
   ],
   "source": [
    "count = 0\n",
    " \n",
    "# Loop through the string\n",
    "for i in s:\n",
    "      count = count + 1\n",
    "newS  = s[ 0:10 ] + s [count - 10: count ]\n",
    " \n",
    "# Printing the new String\n",
    "print(\"Input string = \" + s)\n",
    "print(\"New String = \"+ newS)\n"
   ]
  },
  {
   "cell_type": "code",
   "execution_count": 3,
   "id": "ee6469cf-394f-41af-8b6f-7ab3080d0892",
   "metadata": {},
   "outputs": [
    {
     "name": "stdout",
     "output_type": "stream",
     "text": [
      "number of spaces  0.1590909090909091\n"
     ]
    }
   ],
   "source": [
    "def check_space(string):\n",
    "     \n",
    "    # counter\n",
    "    count = 0\n",
    "     \n",
    "    # loop for search each index\n",
    "    for i in range(0, len(s)):\n",
    "         \n",
    "        # Check each char\n",
    "        # is blank or not\n",
    "        if s[i] == \" \":\n",
    "            count += 1\n",
    "         \n",
    "    return count\n",
    " \n",
    "# call the function and display\n",
    "print(\"number of spaces \",check_space(s)/(len(s)))"
   ]
  },
  {
   "cell_type": "code",
   "execution_count": 4,
   "id": "8400ddc8-cafc-4fa5-89a6-04c71455160c",
   "metadata": {},
   "outputs": [],
   "source": [
    "# Cars\n",
    "cars = [{\"make\":\"Ford\",\"model\":\"escort\",\"color\":\"green\",\"year\":1994},{\"make\":\"Lexus\",\"model\":\"IS250\",\"color\":\"beige\",\"year\":2013},{\"make\":\"Volvo\",\"model\":\"S40\",\"color\":\"blue\",\"year\":1998}]\n"
   ]
  },
  {
   "cell_type": "code",
   "execution_count": 5,
   "id": "a6d65d78-2a0b-4e6a-b476-98135881fdcf",
   "metadata": {},
   "outputs": [
    {
     "name": "stdout",
     "output_type": "stream",
     "text": [
      "[{'make': 'Ford', 'model': 'escort', 'color': 'green', 'year': 1994}, {'make': 'Lexus', 'model': 'IS250', 'color': 'beige', 'year': 2013}, {'make': 'Volvo', 'model': 'S40', 'color': 'blue', 'year': 1998}, {'make': 'Toyota', 'model': 'corolla', 'color': 'Red', 'year': 1985}, {'make': 'Ford', 'model': 'Mustang', 'color': 'Lighhtblue', 'year': 1965}]\n"
     ]
    }
   ],
   "source": [
    "car1={\"make\":\"Toyota\" , \"model\" : \"corolla\", \"color\":\"Red\" ,\"year\": 1985}\n",
    "car2={\"make\":\"Ford\" , \"model\" : \"Mustang\", \"color\":\"Lighhtblue\" ,\"year\": 1965}\n",
    "cars.append(car1)\n",
    "cars.append(car2)\n",
    "print(cars)\n"
   ]
  },
  {
   "cell_type": "code",
   "execution_count": 6,
   "id": "7165f815-9884-4915-b08c-52ac47db2085",
   "metadata": {},
   "outputs": [
    {
     "data": {
      "text/plain": [
       "'Occaecat short ribs incididunt laboris. Bresaola, brisket ex, landjaeger ad, boudin pariatur frankfurter eu flank. Enim tail short ribs, shoulder duis minim excepteur, deserunt lorem porchetta. Dolor chicken spare ribs, id in, ball, tip, hamburger labore venison consectetur cupidatat.'"
      ]
     },
     "execution_count": 6,
     "metadata": {},
     "output_type": "execute_result"
    }
   ],
   "source": [
    "# Sentence\n",
    "S = \"Occaecat short ribs incididunt laboris. Bresaola, brisket ex, landjaeger ad, boudin pariatur frankfurter eu flank. Enim tail short ribs, shoulder duis minim excepteur, deserunt lorem porchetta. Dolor chicken spare ribs, id in, ball, tip, hamburger labore venison consectetur cupidatat.\"\n",
    "S"
   ]
  },
  {
   "cell_type": "code",
   "execution_count": 7,
   "id": "c9c4b3f9-2c3a-4f87-aa46-dc9af93146b2",
   "metadata": {},
   "outputs": [
    {
     "name": "stdout",
     "output_type": "stream",
     "text": [
      "['Occaecat', 'short', 'ribs', 'incididunt', 'laboris.', 'Bresaola,', 'brisket', 'ex,', 'landjaeger', 'ad,', 'boudin', 'pariatur', 'frankfurter', 'eu', 'flank.', 'Enim', 'tail', 'short', 'ribs,', 'shoulder', 'duis', 'minim', 'excepteur,', 'deserunt', 'lorem', 'porchetta.', 'Dolor', 'chicken', 'spare', 'ribs,', 'id', 'in,', 'ball,', 'tip,', 'hamburger', 'labore', 'venison', 'consectetur', 'cupidatat.']\n",
      "New List contain only the last 3 items from list:  ['venison', 'consectetur', 'cupidatat.']\n"
     ]
    }
   ],
   "source": [
    "from itertools import islice\n",
    "mylist=S.split()\n",
    "print(mylist)\n",
    "n=3\n",
    "\n",
    "newlist = list(islice(reversed(mylist), 0, n))\n",
    "newlist.reverse()\n",
    "print(\"New List contain only the last 3 items from list: \"  ,newlist)"
   ]
  }
 ],
 "metadata": {
  "kernelspec": {
   "display_name": "Python 3 (ipykernel)",
   "language": "python",
   "name": "python3"
  },
  "language_info": {
   "codemirror_mode": {
    "name": "ipython",
    "version": 3
   },
   "file_extension": ".py",
   "mimetype": "text/x-python",
   "name": "python",
   "nbconvert_exporter": "python",
   "pygments_lexer": "ipython3",
   "version": "3.9.13"
  }
 },
 "nbformat": 4,
 "nbformat_minor": 5
}
