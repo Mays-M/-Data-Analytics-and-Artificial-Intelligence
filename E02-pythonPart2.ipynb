{
 "cells": [
  {
   "cell_type": "code",
   "execution_count": 10,
   "id": "7bcdd101-cc8a-4c3f-8059-48f8518ced54",
   "metadata": {},
   "outputs": [
    {
     "name": "stdout",
     "output_type": "stream",
     "text": [
      "[<class 'int'>, <class 'str'>, <class 'int'>, <class 'float'>, <class 'list'>, <class 'bool'>, <class 'tuple'>]\n"
     ]
    }
   ],
   "source": [
    " # Your function here\n",
    "def checkingfunc(lst):\n",
    "    \n",
    "    newlist=[]\n",
    "\n",
    "     \n",
    "    # loop for search each index\n",
    "    for i in lst :\n",
    "         \n",
    "        # Check each char\n",
    "        x= type(i)\n",
    "        newlist.append(x)\n",
    "        \n",
    "         \n",
    "    return newlist\n",
    "\n",
    "# Test\n",
    "vars = [100,\"Car\",25000,10.0,[\"a\",\"b\",\"c\"],True,(\"a\",\"b\")] \n",
    "print (checkingfunc(vars))"
   ]
  },
  {
   "cell_type": "code",
   "execution_count": 28,
   "id": "40c880e8-fe91-4e30-81dd-a4c1ed038ccd",
   "metadata": {},
   "outputs": [
    {
     "data": {
      "text/plain": [
       "{1, 5, 7, 9}"
      ]
     },
     "execution_count": 28,
     "metadata": {},
     "output_type": "execute_result"
    }
   ],
   "source": [
    "# Your function here\n",
    "def myfunction(lst1,lst2):\n",
    "    \n",
    "    new_lst1=set(lst1)\n",
    "    new_lst2= set(lst2)\n",
    "    if len(new_lst1.intersection(new_lst2)) > 0:\n",
    "        return(new_lst1.intersection(new_lst2))\n",
    "   \n",
    "\n",
    "\n",
    "\n",
    "# Test\n",
    "l1 = [1,4,5,7,8,9,10]\n",
    "l2 = [1,2,3,5,6,7,9]\n",
    "\n",
    "myfunction(l1,l2)"
   ]
  },
  {
   "cell_type": "code",
   "execution_count": 43,
   "id": "6acd0918-709b-46f3-afa1-33dd33daabea",
   "metadata": {},
   "outputs": [
    {
     "name": "stdout",
     "output_type": "stream",
     "text": [
      "code\n",
      "red\n",
      "mill\n",
      "are\n",
      "None\n"
     ]
    }
   ],
   "source": [
    "# Your function here\n",
    "def mywords(w):\n",
    "    for i in w:\n",
    "        if (len(i) < 4 or len(i) == 4) and  (len(i) !=0) :\n",
    "            print(i)\n",
    "\n",
    "\n",
    "\n",
    "# Test\n",
    "words = [\"bootcamp\",\"yellow\",\"development\",\"full-time\",\"code\",\"fresh\",\"\",\"static\",\"red\",\"advance\",\"mill\",\"story\",\"are\"]\n",
    "print(mywords(words))"
   ]
  },
  {
   "cell_type": "code",
   "execution_count": 2,
   "id": "fa040d28-f2f0-4e8d-82ae-82460658d71c",
   "metadata": {},
   "outputs": [
    {
     "data": {
      "text/plain": [
       "{'temp': 5, 'hum': 5, 'noise': 2, 'light': 3}"
      ]
     },
     "execution_count": 2,
     "metadata": {},
     "output_type": "execute_result"
    }
   ],
   "source": [
    "def loggers(lst):\n",
    "    sensorTypes = {}\n",
    "    for logger in lst:\n",
    "        for sensor in logger[\"sensors\"]:\n",
    "            if sensor in sensorTypes.keys():\n",
    "                sensorTypes[sensor] += 1\n",
    "            else:\n",
    "                sensorTypes[sensor] = 1\n",
    "    return sensorTypes\n",
    "\n",
    "\n",
    "# Data loggers\n",
    "\n",
    "\n",
    "sdata = [{\"ID\":\"logger-1\",\"sensors\":[\"temp\",\"hum\",\"noise\"]},{\"ID\":\"logger-2\",\"sensors\":[\"temp\",\"hum\"]},{\"ID\":\"logger-3\",\"sensors\":[\"temp\",\"hum\",\"light\"]},{\"ID\":\"logger-4\",\"sensors\":[\"temp\",\"hum\",\"light\"]},{\"ID\":\"logger-5\",\"sensors\":[\"temp\",\"hum\",\"noise\",\"light\"]}]\n",
    "\n",
    "\n",
    "loggers(sdata)"
   ]
  }
 ],
 "metadata": {
  "kernelspec": {
   "display_name": "Python 3 (ipykernel)",
   "language": "python",
   "name": "python3"
  },
  "language_info": {
   "codemirror_mode": {
    "name": "ipython",
    "version": 3
   },
   "file_extension": ".py",
   "mimetype": "text/x-python",
   "name": "python",
   "nbconvert_exporter": "python",
   "pygments_lexer": "ipython3",
   "version": "3.9.13"
  }
 },
 "nbformat": 4,
 "nbformat_minor": 5
}
